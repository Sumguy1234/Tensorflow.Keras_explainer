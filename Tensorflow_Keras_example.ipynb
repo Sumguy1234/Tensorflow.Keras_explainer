{
 "cells": [
  {
   "cell_type": "code",
   "execution_count": 1,
   "id": "2001a157",
   "metadata": {},
   "outputs": [],
   "source": [
    "from tensorflow.keras.models import Sequential\n",
    "from tensorflow.keras.layers import Dense"
   ]
  },
  {
   "cell_type": "code",
   "execution_count": 2,
   "id": "98a5d467",
   "metadata": {},
   "outputs": [],
   "source": [
    "# Sequential: We’ll use the Sequential model to build a neural network with a linear stack of layers. Data flows sequentially\n",
    "# from one layer to the next in this model, as in the neural network structure that we saw in the previous section.\n",
    "\n",
    "# Dense: The Dense module allows us to add layers within a neural network."
   ]
  },
  {
   "cell_type": "code",
   "execution_count": 3,
   "id": "f158670b",
   "metadata": {},
   "outputs": [],
   "source": [
    "# Within our Sequential model, we'll add three Dense layers that will act as our input, hidden, and output layers. \n",
    "# For each Dense layer, we'll define the number of neurons, as well as the activation function.\n",
    "\n",
    "# Once we have completed our Sequential model design, we can apply the same model-fit-predict workflow that we have previously \n",
    "# used for other machine learning algorithms. We originally learned this pattern in scikit-learn. But most machine learning \n",
    "# frameworks, including TensorFlow, follow this same pattern."
   ]
  },
  {
   "cell_type": "code",
   "execution_count": 4,
   "id": "0c02678b",
   "metadata": {},
   "outputs": [],
   "source": [
    "# Using dummy dataset for this demo. Coding a neural network that can solve binary classification."
   ]
  },
  {
   "cell_type": "code",
   "execution_count": 8,
   "id": "e5000e2b",
   "metadata": {},
   "outputs": [],
   "source": [
    "# Create dummy data with 1000 samples/data points. Two features split into x(features) and y(target)\n",
    "from sklearn.datasets import make_blobs\n",
    "x,y=make_blobs(n_samples=1000,centers=2,n_features=2,random_state=1)"
   ]
  },
  {
   "cell_type": "code",
   "execution_count": 9,
   "id": "b0110eee",
   "metadata": {},
   "outputs": [],
   "source": [
    "# preprocess by transforming y into a vertical vector (single column)\n",
    "y=y.reshape(-1,1)"
   ]
  },
  {
   "cell_type": "code",
   "execution_count": 10,
   "id": "2e7fb339",
   "metadata": {},
   "outputs": [
    {
     "data": {
      "text/plain": [
       "<AxesSubplot:xlabel='Feature 1', ylabel='Feature 2'>"
      ]
     },
     "execution_count": 10,
     "metadata": {},
     "output_type": "execute_result"
    },
    {
     "data": {
      "image/png": "[encoded data removed]",
      "text/plain": [
       "<Figure size 432x288 with 2 Axes>"
      ]
     },
     "metadata": {
      "needs_background": "light"
     },
     "output_type": "display_data"
    }
   ],
   "source": [
    "#visualize using pandas plot function\n",
    "import pandas as pd\n",
    "\n",
    "df=pd.DataFrame(x, columns=['Feature 1','Feature 2'])\n",
    "df['Target']=y\n",
    "\n",
    "df.plot.scatter(x='Feature 1', y='Feature 2', c='Target',colormap='winter')"
   ]
  },
  {
   "cell_type": "code",
   "execution_count": 11,
   "id": "9a5ee3b1",
   "metadata": {},
   "outputs": [],
   "source": [
    "#split data into training and testing datasets\n",
    "from sklearn.model_selection import train_test_split\n",
    "x_train,x_test,y_train,y_test=train_test_split(x,y,random_state=1)"
   ]
  },
  {
   "cell_type": "code",
   "execution_count": 12,
   "id": "3169bf28",
   "metadata": {},
   "outputs": [],
   "source": [
    "# Before using a neural network, we must normalize, or standardize, our data. Neural networks typically perform better with\n",
    "# all input features on the same scale. This makes it easier for the neural network to adjust the weights in the network.\n",
    "\n",
    "# Developers commonly use scikit-learn's MinMaxScaler or StandardScaler functions to scale and normalize input features. \n",
    "# For this example, we will use StandardScaler to scale the features data. We do not need to scale the target data (y), because \n",
    "# it is already encoded as 0 and 1."
   ]
  },
  {
   "cell_type": "code",
   "execution_count": 17,
   "id": "57a555b0",
   "metadata": {},
   "outputs": [],
   "source": [
    "#create scaler instance\n",
    "from sklearn.preprocessing import StandardScaler\n",
    "x_scaler=StandardScaler()\n",
    "\n",
    "# fit the scaler\n",
    "x_scaler.fit(x_train)\n",
    "\n",
    "#scale the data\n",
    "x_train_scaled=x_scaler.transform(x_train)\n",
    "x_test_scaled=x_scaler.transform(x_test)"
   ]
  },
  {
   "cell_type": "code",
   "execution_count": 18,
   "id": "2c084a1b",
   "metadata": {},
   "outputs": [],
   "source": [
    "# To create a neural network, we first define an instance of the model.\n",
    "# In this case, we will create an instance of the Sequential model and set it equal to the neuron variable. The neuron variable\n",
    "# will store the architecture of our model, as the following code shows:\n",
    "\n",
    "neuron = Sequential()"
   ]
  },
  {
   "cell_type": "code",
   "execution_count": 19,
   "id": "c7353834",
   "metadata": {},
   "outputs": [],
   "source": [
    "# In this demonstration, we will create a neural network model with an input layer that consists of two inputs—one for each \n",
    "# feature on our DataFrame. We will also add one hidden layer with three neurons. The hidden layer will perform data \n",
    "# transformations on the inputs that we enter into the network.\n",
    "# When we begin coding the model’s architecture, our initial step will create both an input layer containing two inputs and a\n",
    "# hidden layer containing three neurons. To add these initial layers to our neural network, we use the add function and the \n",
    "# Dense module, as the following code shows:\n",
    "\n",
    "number_inputs=2\n",
    "number_hidden_nodes=3\n",
    "\n",
    "neuron.add(Dense(units=number_hidden_nodes,activation='relu',input_dim=number_inputs))"
   ]
  },
  {
   "cell_type": "code",
   "execution_count": 20,
   "id": "6295acc9",
   "metadata": {},
   "outputs": [],
   "source": [
    "# Our initial code creates the input layer and the first hidden layer so the number of inputs is the input_dim param\n",
    "# Also defined is the number of neurons in the first hidden layer with the units param\n",
    "# In this case we are defining our activation param as the recified linear unit (ReLU) function. \n",
    "# ReLU is currently the world's most used activation function for training deep neural networks."
   ]
  },
  {
   "cell_type": "code",
   "execution_count": 21,
   "id": "8ceb8428",
   "metadata": {},
   "outputs": [],
   "source": [
    "# Now we just need our output layer. USing Dense we will create a new layer in the Sequential model\n",
    "\n",
    "number_classes=1\n",
    "neuron.add(Dense(units=number_classes,activation='sigmoid'))"
   ]
  },
  {
   "cell_type": "code",
   "execution_count": 22,
   "id": "66a633f8",
   "metadata": {},
   "outputs": [],
   "source": [
    "# Only needed to supply units and activation params\n",
    "# units is the number of output neurons. Because this is a classification model the model will output yes/no (1/0) binary \n",
    "# decision for each input data point so only need one output neuron to do this\n",
    "\n",
    "# Activation: previously ReLU was used due to the nonlinear relationships. Now for the classification model's output layer \n",
    "# the sigmoid is used. Sigmoid outputs in a range between 0 and 1. This allows the model to map the result to a probability\n",
    "# that the input point belongs to Class 1 (rather than Class 0). Alternatively it would allow hard classification and identify\n",
    "# each input data point as either Class 1 or Class 0. For this type of classification, the model would use a default \n",
    "# threshold of .5 e.g. the model would classify any data point with ouput >0.5 as Class 1 and <0.5 as Class 0"
   ]
  },
  {
   "cell_type": "code",
   "execution_count": 23,
   "id": "a452811b",
   "metadata": {},
   "outputs": [
    {
     "name": "stdout",
     "output_type": "stream",
     "text": [
      "Model: \"sequential\"\n",
      "_________________________________________________________________\n",
      " Layer (type)                Output Shape              Param #   \n",
      "=================================================================\n",
      " dense (Dense)               (None, 3)                 9         \n",
      "                                                                 \n",
      " dense_1 (Dense)             (None, 1)                 4         \n",
      "                                                                 \n",
      "=================================================================\n",
      "Total params: 13\n",
      "Trainable params: 13\n",
      "Non-trainable params: 0\n",
      "_________________________________________________________________\n"
     ]
    }
   ],
   "source": [
    "# Display the model summary\n",
    "neuron.summary()"
   ]
  },
  {
   "cell_type": "code",
   "execution_count": null,
   "id": "98ae3238",
   "metadata": {},
   "outputs": [],
   "source": []
  }
 ],
 "metadata": {
  "kernelspec": {
   "display_name": "Python 3 (ipykernel)",
   "language": "python",
   "name": "python3"
  },
  "language_info": {
   "codemirror_mode": {
    "name": "ipython",
    "version": 3
   },
   "file_extension": ".py",
   "mimetype": "text/x-python",
   "name": "python",
   "nbconvert_exporter": "python",
   "pygments_lexer": "ipython3",
   "version": "3.7.13"
  }
 },
 "nbformat": 4,
 "nbformat_minor": 5
}
